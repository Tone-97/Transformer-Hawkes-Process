{
 "cells": [
  {
   "cell_type": "code",
   "execution_count": 1,
   "metadata": {
    "collapsed": true,
    "pycharm": {
     "name": "#%%\n"
    }
   },
   "outputs": [],
   "source": [
    "%load_ext autoreload\n",
    "%autoreload 2\n",
    "# 导入库\n",
    "from Main import *"
   ]
  },
  {
   "cell_type": "code",
   "execution_count": 2,
   "outputs": [],
   "source": [
    "# 参数传递\n",
    "parser = argparse.ArgumentParser()\n",
    "\n",
    "parser.add_argument('-data', default='data/data_so/fold1/')\n",
    "\n",
    "parser.add_argument('-epoch', type=int, default=30)\n",
    "parser.add_argument('-batch_size', type=int, default=16)\n",
    "\n",
    "parser.add_argument('-d_model', type=int, default=64)\n",
    "parser.add_argument('-d_rnn', type=int, default=256)\n",
    "parser.add_argument('-d_inner_hid', type=int, default=128)\n",
    "parser.add_argument('-d_k', type=int, default=16)\n",
    "parser.add_argument('-d_v', type=int, default=16)\n",
    "\n",
    "parser.add_argument('-n_head', type=int, default=4)\n",
    "parser.add_argument('-n_layers', type=int, default=4)\n",
    "\n",
    "parser.add_argument('-dropout', type=float, default=0.1)\n",
    "parser.add_argument('-lr', type=float, default=1e-4)\n",
    "parser.add_argument('-smooth', type=float, default=0.1)\n",
    "\n",
    "parser.add_argument('-log', type=str, default='log.txt')\n",
    "\n",
    "opt = parser.parse_args(args=[])\n",
    "\n",
    "# default device is CUDA\n",
    "opt.device = torch.device('cuda')"
   ],
   "metadata": {
    "collapsed": false,
    "pycharm": {
     "name": "#%%\n"
    }
   }
  },
  {
   "cell_type": "code",
   "execution_count": 3,
   "outputs": [
    {
     "name": "stdout",
     "output_type": "stream",
     "text": [
      "[Info] Loading train data...\n",
      "[Info] Loading dev data...\n",
      "[Info] Loading test data...\n"
     ]
    }
   ],
   "source": [
    "trainloader, testloader, num_types = prepare_dataloader(opt)"
   ],
   "metadata": {
    "collapsed": false,
    "pycharm": {
     "name": "#%%\n"
    }
   }
  },
  {
   "cell_type": "code",
   "execution_count": 11,
   "outputs": [
    {
     "name": "stdout",
     "output_type": "stream",
     "text": [
      "<class 'tuple'>\n",
      "3\n",
      "torch.Size([16, 148])\n",
      "torch.Size([16, 148])\n",
      "torch.Size([16, 148])\n",
      "<class 'tuple'>\n",
      "3\n",
      "torch.Size([16, 164])\n",
      "torch.Size([16, 164])\n",
      "torch.Size([16, 164])\n",
      "<class 'tuple'>\n",
      "3\n",
      "torch.Size([16, 139])\n",
      "torch.Size([16, 139])\n",
      "torch.Size([16, 139])\n",
      "<class 'tuple'>\n",
      "3\n",
      "torch.Size([16, 207])\n",
      "torch.Size([16, 207])\n",
      "torch.Size([16, 207])\n",
      "<class 'tuple'>\n",
      "3\n",
      "torch.Size([16, 117])\n",
      "torch.Size([16, 117])\n",
      "torch.Size([16, 117])\n"
     ]
    }
   ],
   "source": [
    "cnt = 5\n",
    "for a in trainloader:\n",
    "    print(type(a))\n",
    "    print(len(a))\n",
    "    for i in range(len(a)):\n",
    "        print(a[i].shape)\n",
    "    cnt -= 1\n",
    "    if cnt == 0:\n",
    "        break"
   ],
   "metadata": {
    "collapsed": false,
    "pycharm": {
     "name": "#%%\n"
    }
   }
  },
  {
   "cell_type": "code",
   "execution_count": 13,
   "outputs": [],
   "source": [
    "opt?"
   ],
   "metadata": {
    "collapsed": false,
    "pycharm": {
     "name": "#%%\n"
    }
   }
  },
  {
   "cell_type": "code",
   "execution_count": null,
   "outputs": [],
   "source": [],
   "metadata": {
    "collapsed": false,
    "pycharm": {
     "name": "#%%\n"
    }
   }
  }
 ],
 "metadata": {
  "kernelspec": {
   "display_name": "Python 3",
   "language": "python",
   "name": "python3"
  },
  "language_info": {
   "codemirror_mode": {
    "name": "ipython",
    "version": 2
   },
   "file_extension": ".py",
   "mimetype": "text/x-python",
   "name": "python",
   "nbconvert_exporter": "python",
   "pygments_lexer": "ipython2",
   "version": "2.7.6"
  }
 },
 "nbformat": 4,
 "nbformat_minor": 0
}